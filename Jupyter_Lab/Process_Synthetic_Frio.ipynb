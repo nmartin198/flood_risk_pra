{
 "cells": [
  {
   "cell_type": "markdown",
   "id": "a1fd4052-6a86-47d5-b0df-75e420db453c",
   "metadata": {},
   "source": [
    "# Process Stochastic Record for Events"
   ]
  },
  {
   "cell_type": "markdown",
   "id": "3686e18b-16a5-4fe8-b3f7-ac56b1e51f23",
   "metadata": {},
   "source": [
    "The purpose of this notebook is to process the synthetic, 1,000 realization Frio record for events to simulate to look at inundation extent."
   ]
  },
  {
   "cell_type": "markdown",
   "id": "d3e2cb4d-36bf-4a6b-9dbd-78d513db2fa6",
   "metadata": {},
   "source": [
    "## Parameters and Imports"
   ]
  },
  {
   "cell_type": "code",
   "execution_count": 1,
   "id": "2f149a7c-7a82-4b55-b363-73e22bb14ad7",
   "metadata": {},
   "outputs": [],
   "source": [
    "%matplotlib inline"
   ]
  },
  {
   "cell_type": "code",
   "execution_count": 2,
   "id": "461075e5-9cab-4d7b-9571-7e8bb7516054",
   "metadata": {},
   "outputs": [],
   "source": [
    "from IPython.display import display, HTML\n",
    "import os\n",
    "import datetime as dt\n",
    "import pandas as pd\n",
    "import geopandas as gpd\n",
    "import numpy as np\n",
    "import matplotlib as mpl\n",
    "import matplotlib.pyplot as plt\n",
    "import matplotlib.patches as mpatches\n",
    "from matplotlib.lines import Line2D\n",
    "import shapely"
   ]
  },
  {
   "cell_type": "code",
   "execution_count": 3,
   "id": "e4a2ae8b-b153-4390-a0eb-0a5cdda74945",
   "metadata": {},
   "outputs": [],
   "source": [
    "# 24-hour event depths\n",
    "Old_100yr = 233.7 # depth in mm, 9.2 in\n",
    "New_25yr = 236.0 # depth in mm, 9.3 in\n",
    "Est_25yr_Discharge = 180.0 # base event discharge in cubic meters per second"
   ]
  },
  {
   "cell_type": "code",
   "execution_count": 4,
   "id": "01ee33c4-f648-4800-927a-1e8c828f926f",
   "metadata": {},
   "outputs": [],
   "source": [
    "IN_DIR1 = r'C:\\Users\\nicholas.martin\\Documents\\Flood_Risk_Model\\Frio_Synthetic_Weather'\n",
    "OUT_DIR = r'C:\\Users\\nicholas.martin\\Documents\\Flood_Risk_Model\\Frio_Synthetic_Weather\\Processed_Outputs'"
   ]
  },
  {
   "cell_type": "code",
   "execution_count": 5,
   "id": "42b9d287-f67e-41a7-8c95-b515e52ce1db",
   "metadata": {},
   "outputs": [],
   "source": [
    "NumReal = 1000\n",
    "FileTemp = \"Frio_R%d_DF.pickle\""
   ]
  },
  {
   "cell_type": "code",
   "execution_count": 6,
   "id": "1f792508-f02d-4941-8ad9-0a7ce5f6a06b",
   "metadata": {},
   "outputs": [],
   "source": [
    "CNStartTS = pd.Timestamp( 2031, 1, 1, 0, )\n",
    "CNEndTS = pd.Timestamp( 2060, 12, 31, 23, 59, )"
   ]
  },
  {
   "cell_type": "markdown",
   "id": "dba69489-812c-48fc-ba94-a5e2fe0f1281",
   "metadata": {},
   "source": [
    "## Test File"
   ]
  },
  {
   "cell_type": "code",
   "execution_count": 7,
   "id": "227df6ec-400d-48a1-af7f-f7f5e31b1233",
   "metadata": {},
   "outputs": [],
   "source": [
    "InFiler = os.path.normpath( os.path.join( IN_DIR1, FileTemp % 1 ) )\n",
    "curDF = pd.read_pickle( InFiler, compression='zip' )"
   ]
  },
  {
   "cell_type": "code",
   "execution_count": 8,
   "id": "08b29d38-8439-420e-8f49-399b070ced22",
   "metadata": {},
   "outputs": [
    {
     "data": {
      "text/html": [
       "<table border=\"1\" class=\"dataframe\">\n",
       "  <thead>\n",
       "    <tr style=\"text-align: right;\">\n",
       "      <th></th>\n",
       "      <th>Tmax_C</th>\n",
       "      <th>Tmin_C</th>\n",
       "      <th>Precip_mm</th>\n",
       "      <th>Tave_C</th>\n",
       "      <th>MonDelta_T</th>\n",
       "      <th>ETo_mm</th>\n",
       "      <th>Def_mm</th>\n",
       "    </tr>\n",
       "  </thead>\n",
       "  <tbody>\n",
       "    <tr>\n",
       "      <th>2024-01-01</th>\n",
       "      <td>27.615095</td>\n",
       "      <td>6.446398</td>\n",
       "      <td>0.0</td>\n",
       "      <td>17.030746</td>\n",
       "      <td>20.410206</td>\n",
       "      <td>2.983201</td>\n",
       "      <td>-2.983201</td>\n",
       "    </tr>\n",
       "    <tr>\n",
       "      <th>2024-01-02</th>\n",
       "      <td>28.049767</td>\n",
       "      <td>7.268944</td>\n",
       "      <td>0.0</td>\n",
       "      <td>17.659355</td>\n",
       "      <td>20.410206</td>\n",
       "      <td>3.044339</td>\n",
       "      <td>-3.044339</td>\n",
       "    </tr>\n",
       "    <tr>\n",
       "      <th>2024-01-03</th>\n",
       "      <td>30.505297</td>\n",
       "      <td>9.438797</td>\n",
       "      <td>0.0</td>\n",
       "      <td>19.972046</td>\n",
       "      <td>20.410206</td>\n",
       "      <td>3.251329</td>\n",
       "      <td>-3.251329</td>\n",
       "    </tr>\n",
       "    <tr>\n",
       "      <th>2024-01-04</th>\n",
       "      <td>24.393387</td>\n",
       "      <td>6.251533</td>\n",
       "      <td>0.0</td>\n",
       "      <td>15.322460</td>\n",
       "      <td>20.410206</td>\n",
       "      <td>2.859076</td>\n",
       "      <td>-2.859076</td>\n",
       "    </tr>\n",
       "    <tr>\n",
       "      <th>2024-01-05</th>\n",
       "      <td>21.589312</td>\n",
       "      <td>3.329568</td>\n",
       "      <td>0.0</td>\n",
       "      <td>12.459440</td>\n",
       "      <td>20.410206</td>\n",
       "      <td>2.619751</td>\n",
       "      <td>-2.619751</td>\n",
       "    </tr>\n",
       "  </tbody>\n",
       "</table>"
      ],
      "text/plain": [
       "<IPython.core.display.HTML object>"
      ]
     },
     "metadata": {},
     "output_type": "display_data"
    }
   ],
   "source": [
    "display( HTML( curDF.head().to_html() ) )"
   ]
  },
  {
   "cell_type": "code",
   "execution_count": 9,
   "id": "e4b927de-644c-4e8b-932e-5c26f0653348",
   "metadata": {},
   "outputs": [],
   "source": [
    "curDF[\"DateTime\"] = curDF.index\n",
    "curDF[\"RealNum\"] = 1"
   ]
  },
  {
   "cell_type": "code",
   "execution_count": 10,
   "id": "c01e8ed3-9caf-4def-b927-42aa1e7b91f9",
   "metadata": {},
   "outputs": [],
   "source": [
    "curDF = curDF[[\"RealNum\", \"DateTime\", \"Precip_mm\",]].copy()"
   ]
  },
  {
   "cell_type": "code",
   "execution_count": 11,
   "id": "9eea8a9a-e582-428e-8817-f36b49647e38",
   "metadata": {},
   "outputs": [],
   "source": [
    "extractDF = curDF[curDF[\"Precip_mm\"] >= New_25yr].copy() "
   ]
  },
  {
   "cell_type": "code",
   "execution_count": 12,
   "id": "fd631adc-2f13-4648-bc00-baab3397bda1",
   "metadata": {},
   "outputs": [
    {
     "data": {
      "text/html": [
       "<table border=\"1\" class=\"dataframe\">\n",
       "  <thead>\n",
       "    <tr style=\"text-align: right;\">\n",
       "      <th></th>\n",
       "      <th>RealNum</th>\n",
       "      <th>DateTime</th>\n",
       "      <th>Precip_mm</th>\n",
       "    </tr>\n",
       "  </thead>\n",
       "  <tbody>\n",
       "    <tr>\n",
       "      <th>2044-01-05</th>\n",
       "      <td>1</td>\n",
       "      <td>2044-01-05</td>\n",
       "      <td>246.863785</td>\n",
       "    </tr>\n",
       "    <tr>\n",
       "      <th>2050-01-05</th>\n",
       "      <td>1</td>\n",
       "      <td>2050-01-05</td>\n",
       "      <td>242.915573</td>\n",
       "    </tr>\n",
       "    <tr>\n",
       "      <th>2063-01-06</th>\n",
       "      <td>1</td>\n",
       "      <td>2063-01-06</td>\n",
       "      <td>254.184647</td>\n",
       "    </tr>\n",
       "  </tbody>\n",
       "</table>"
      ],
      "text/plain": [
       "<IPython.core.display.HTML object>"
      ]
     },
     "metadata": {},
     "output_type": "display_data"
    }
   ],
   "source": [
    "display( HTML( extractDF.to_html() ) )"
   ]
  },
  {
   "cell_type": "code",
   "execution_count": 13,
   "id": "eed2e310-d438-4125-a276-684ec6b2bfec",
   "metadata": {},
   "outputs": [],
   "source": [
    "extractDF[\"Discharge_cms\"] = extractDF[\"Precip_mm\"] * ( Est_25yr_Discharge / New_25yr )"
   ]
  },
  {
   "cell_type": "markdown",
   "id": "353e9cc1-5de1-4f81-a765-d4f932f79f62",
   "metadata": {},
   "source": [
    "## Process Realizations for Events"
   ]
  },
  {
   "cell_type": "code",
   "execution_count": 14,
   "id": "3ada351a-cce3-4699-8a56-e29535614dda",
   "metadata": {},
   "outputs": [],
   "source": [
    "DFLister = list()"
   ]
  },
  {
   "cell_type": "code",
   "execution_count": 15,
   "id": "520ccb56-dabe-4a53-b87c-e45c0596ce1d",
   "metadata": {},
   "outputs": [],
   "source": [
    "for rR in range(1,NumReal+1,1):\n",
    "    InFiler = os.path.normpath( os.path.join( IN_DIR1, FileTemp % rR ) )\n",
    "    curDF = pd.read_pickle( InFiler, compression='zip' )\n",
    "    curDF[\"DateTime\"] = curDF.index\n",
    "    curDF[\"RealNum\"] = rR\n",
    "    curDF = curDF[[\"RealNum\", \"DateTime\", \"Precip_mm\",]].copy()\n",
    "    extractDF = curDF[curDF[\"Precip_mm\"] >= New_25yr].copy()\n",
    "    extractDF[\"Discharge_cms\"] = extractDF[\"Precip_mm\"] * ( Est_25yr_Discharge / New_25yr )\n",
    "    DFLister.append( extractDF )\n",
    "# end for"
   ]
  },
  {
   "cell_type": "code",
   "execution_count": 16,
   "id": "fdb531f8-b5c2-463f-9cda-fdbee22ed48e",
   "metadata": {},
   "outputs": [],
   "source": [
    "AllEventsDF = pd.concat( DFLister, ignore_index=True )"
   ]
  },
  {
   "cell_type": "code",
   "execution_count": 17,
   "id": "8789ee0f-27bd-4bbb-8272-6400c24a5a85",
   "metadata": {},
   "outputs": [
    {
     "data": {
      "text/html": [
       "<table border=\"1\" class=\"dataframe\">\n",
       "  <thead>\n",
       "    <tr style=\"text-align: right;\">\n",
       "      <th></th>\n",
       "      <th>RealNum</th>\n",
       "      <th>DateTime</th>\n",
       "      <th>Precip_mm</th>\n",
       "      <th>Discharge_cms</th>\n",
       "    </tr>\n",
       "  </thead>\n",
       "  <tbody>\n",
       "    <tr>\n",
       "      <th>0</th>\n",
       "      <td>1</td>\n",
       "      <td>2044-01-05</td>\n",
       "      <td>246.863785</td>\n",
       "      <td>188.285934</td>\n",
       "    </tr>\n",
       "    <tr>\n",
       "      <th>1</th>\n",
       "      <td>1</td>\n",
       "      <td>2050-01-05</td>\n",
       "      <td>242.915573</td>\n",
       "      <td>185.274597</td>\n",
       "    </tr>\n",
       "    <tr>\n",
       "      <th>2</th>\n",
       "      <td>1</td>\n",
       "      <td>2063-01-06</td>\n",
       "      <td>254.184647</td>\n",
       "      <td>193.869644</td>\n",
       "    </tr>\n",
       "    <tr>\n",
       "      <th>3</th>\n",
       "      <td>2</td>\n",
       "      <td>2048-02-26</td>\n",
       "      <td>245.518372</td>\n",
       "      <td>187.259781</td>\n",
       "    </tr>\n",
       "    <tr>\n",
       "      <th>4</th>\n",
       "      <td>2</td>\n",
       "      <td>2051-01-10</td>\n",
       "      <td>248.133163</td>\n",
       "      <td>189.254105</td>\n",
       "    </tr>\n",
       "  </tbody>\n",
       "</table>"
      ],
      "text/plain": [
       "<IPython.core.display.HTML object>"
      ]
     },
     "metadata": {},
     "output_type": "display_data"
    }
   ],
   "source": [
    "display( HTML( AllEventsDF.head().to_html() ) )"
   ]
  },
  {
   "cell_type": "code",
   "execution_count": 18,
   "id": "9e7b2456-1650-452c-b057-a4fd0c199352",
   "metadata": {},
   "outputs": [
    {
     "data": {
      "text/html": [
       "<table border=\"1\" class=\"dataframe\">\n",
       "  <thead>\n",
       "    <tr style=\"text-align: right;\">\n",
       "      <th></th>\n",
       "      <th>RealNum</th>\n",
       "      <th>DateTime</th>\n",
       "      <th>Precip_mm</th>\n",
       "      <th>Discharge_cms</th>\n",
       "    </tr>\n",
       "  </thead>\n",
       "  <tbody>\n",
       "    <tr>\n",
       "      <th>3578</th>\n",
       "      <td>999</td>\n",
       "      <td>2061-01-27</td>\n",
       "      <td>245.074814</td>\n",
       "      <td>186.921478</td>\n",
       "    </tr>\n",
       "    <tr>\n",
       "      <th>3579</th>\n",
       "      <td>1000</td>\n",
       "      <td>2028-01-05</td>\n",
       "      <td>245.558990</td>\n",
       "      <td>187.290756</td>\n",
       "    </tr>\n",
       "    <tr>\n",
       "      <th>3580</th>\n",
       "      <td>1000</td>\n",
       "      <td>2050-01-09</td>\n",
       "      <td>238.121597</td>\n",
       "      <td>181.618179</td>\n",
       "    </tr>\n",
       "    <tr>\n",
       "      <th>3581</th>\n",
       "      <td>1000</td>\n",
       "      <td>2056-01-05</td>\n",
       "      <td>266.281342</td>\n",
       "      <td>203.095947</td>\n",
       "    </tr>\n",
       "    <tr>\n",
       "      <th>3582</th>\n",
       "      <td>1000</td>\n",
       "      <td>2061-01-02</td>\n",
       "      <td>328.370911</td>\n",
       "      <td>250.452393</td>\n",
       "    </tr>\n",
       "  </tbody>\n",
       "</table>"
      ],
      "text/plain": [
       "<IPython.core.display.HTML object>"
      ]
     },
     "metadata": {},
     "output_type": "display_data"
    }
   ],
   "source": [
    "display( HTML( AllEventsDF.tail().to_html() ) )"
   ]
  },
  {
   "cell_type": "code",
   "execution_count": 19,
   "id": "85d9c3f0-8061-4e5d-80d5-48dff3fcabee",
   "metadata": {},
   "outputs": [
    {
     "data": {
      "text/html": [
       "<table border=\"1\" class=\"dataframe\">\n",
       "  <thead>\n",
       "    <tr style=\"text-align: right;\">\n",
       "      <th></th>\n",
       "      <th>RealNum</th>\n",
       "      <th>DateTime</th>\n",
       "      <th>Precip_mm</th>\n",
       "      <th>Discharge_cms</th>\n",
       "    </tr>\n",
       "  </thead>\n",
       "  <tbody>\n",
       "    <tr>\n",
       "      <th>count</th>\n",
       "      <td>3583.000000</td>\n",
       "      <td>3583</td>\n",
       "      <td>3583.000000</td>\n",
       "      <td>3583.000000</td>\n",
       "    </tr>\n",
       "    <tr>\n",
       "      <th>mean</th>\n",
       "      <td>500.158805</td>\n",
       "      <td>2046-09-10 02:55:13.647780864</td>\n",
       "      <td>278.532074</td>\n",
       "      <td>212.439713</td>\n",
       "    </tr>\n",
       "    <tr>\n",
       "      <th>min</th>\n",
       "      <td>1.000000</td>\n",
       "      <td>2024-01-07 00:00:00</td>\n",
       "      <td>236.024506</td>\n",
       "      <td>180.018692</td>\n",
       "    </tr>\n",
       "    <tr>\n",
       "      <th>25%</th>\n",
       "      <td>252.000000</td>\n",
       "      <td>2038-01-27 00:00:00</td>\n",
       "      <td>242.891487</td>\n",
       "      <td>185.256218</td>\n",
       "    </tr>\n",
       "    <tr>\n",
       "      <th>50%</th>\n",
       "      <td>496.000000</td>\n",
       "      <td>2047-03-06 00:00:00</td>\n",
       "      <td>251.877472</td>\n",
       "      <td>192.109940</td>\n",
       "    </tr>\n",
       "    <tr>\n",
       "      <th>75%</th>\n",
       "      <td>751.000000</td>\n",
       "      <td>2055-01-08 00:00:00</td>\n",
       "      <td>286.403793</td>\n",
       "      <td>218.443581</td>\n",
       "    </tr>\n",
       "    <tr>\n",
       "      <th>max</th>\n",
       "      <td>1000.000000</td>\n",
       "      <td>2065-07-23 00:00:00</td>\n",
       "      <td>656.915161</td>\n",
       "      <td>501.036987</td>\n",
       "    </tr>\n",
       "    <tr>\n",
       "      <th>std</th>\n",
       "      <td>288.938843</td>\n",
       "      <td>NaN</td>\n",
       "      <td>58.823586</td>\n",
       "      <td>44.865448</td>\n",
       "    </tr>\n",
       "  </tbody>\n",
       "</table>"
      ],
      "text/plain": [
       "<IPython.core.display.HTML object>"
      ]
     },
     "metadata": {},
     "output_type": "display_data"
    }
   ],
   "source": [
    "display( HTML( AllEventsDF.describe().to_html() ) )"
   ]
  },
  {
   "cell_type": "code",
   "execution_count": 20,
   "id": "f6cd26a7-baef-40b2-89c1-134482541abc",
   "metadata": {},
   "outputs": [],
   "source": [
    "DescDF = AllEventsDF.describe().copy()"
   ]
  },
  {
   "cell_type": "markdown",
   "id": "f34059fd-0b7c-4264-ade0-67e974c57fb2",
   "metadata": {},
   "source": [
    "## Output to Spreadsheet"
   ]
  },
  {
   "cell_type": "code",
   "execution_count": 21,
   "id": "0a132c5d-fd4b-44b0-80e1-32fc1835e768",
   "metadata": {},
   "outputs": [],
   "source": [
    "OutFiler = os.path.normpath( os.path.join( OUT_DIR, \"All_Events_Summary.xlsx\" ) )\n",
    "writer = pd.ExcelWriter( OutFiler )\n",
    "workbook  = writer.book\n",
    "format1 = workbook.add_format({'num_format': '#,##0.000'})\n",
    "format2 = workbook.add_format({'num_format': '#,##0.0000'})\n",
    "format3 = workbook.add_format({'num_format': '#,##0'})\n",
    "cLabel = \"Summary\"\n",
    "DescDF.to_excel( writer, sheet_name=cLabel, )\n",
    "# adjust columns\n",
    "writer.sheets[cLabel].set_column( 0, 0, 18 )\n",
    "for column in DescDF:\n",
    "    column_width = max(DescDF[column].astype(str).map(len).max()+6, len(column)+6)\n",
    "    col_idx = DescDF.columns.get_loc(column)\n",
    "    if column in [\"RealNum\",]:\n",
    "        writer.sheets[cLabel].set_column(col_idx+1, col_idx+1, column_width, format3)\n",
    "    elif column in [\"Precip_mm\", \"Discharge_cms\"]:\n",
    "        writer.sheets[cLabel].set_column(col_idx+1, col_idx+1, column_width, format1)\n",
    "# end for\n",
    "cLabel = \"Events\"\n",
    "AllEventsDF.to_excel( writer, sheet_name=cLabel, )\n",
    "# adjust columns\n",
    "writer.sheets[cLabel].set_column( 0, 0, 18 )\n",
    "for column in AllEventsDF:\n",
    "    column_width = max(AllEventsDF[column].astype(str).map(len).max()+6, len(column)+6)\n",
    "    col_idx = AllEventsDF.columns.get_loc(column)\n",
    "    if column in [\"RealNum\",]:\n",
    "        writer.sheets[cLabel].set_column(col_idx+1, col_idx+1, column_width, format3)\n",
    "    elif column in [\"Precip_mm\", \"Discharge_cms\"]:\n",
    "        writer.sheets[cLabel].set_column(col_idx+1, col_idx+1, column_width, format1)\n",
    "# end for\n",
    "writer.close()"
   ]
  },
  {
   "cell_type": "code",
   "execution_count": null,
   "id": "4d42a40b-1b97-4265-8635-42526fd11744",
   "metadata": {},
   "outputs": [],
   "source": []
  }
 ],
 "metadata": {
  "kernelspec": {
   "display_name": "Python 3 (ipykernel)",
   "language": "python",
   "name": "python3"
  },
  "language_info": {
   "codemirror_mode": {
    "name": "ipython",
    "version": 3
   },
   "file_extension": ".py",
   "mimetype": "text/x-python",
   "name": "python",
   "nbconvert_exporter": "python",
   "pygments_lexer": "ipython3",
   "version": "3.9.15"
  }
 },
 "nbformat": 4,
 "nbformat_minor": 5
}
